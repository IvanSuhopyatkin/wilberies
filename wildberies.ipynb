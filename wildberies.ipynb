{
 "cells": [
  {
   "cell_type": "code",
   "execution_count": 1,
   "id": "bb63527d",
   "metadata": {},
   "outputs": [],
   "source": [
    "import pandas as pd\n",
    "import numpy as np"
   ]
  },
  {
   "cell_type": "code",
   "execution_count": 2,
   "id": "19f71ea4",
   "metadata": {},
   "outputs": [],
   "source": [
    "data=pd.read_csv('./wb_school_task_1.csv.gzip', compression='gzip')"
   ]
  },
  {
   "cell_type": "code",
   "execution_count": 3,
   "id": "8e63042b",
   "metadata": {},
   "outputs": [
    {
     "data": {
      "text/html": [
       "<div>\n",
       "<style scoped>\n",
       "    .dataframe tbody tr th:only-of-type {\n",
       "        vertical-align: middle;\n",
       "    }\n",
       "\n",
       "    .dataframe tbody tr th {\n",
       "        vertical-align: top;\n",
       "    }\n",
       "\n",
       "    .dataframe thead th {\n",
       "        text-align: right;\n",
       "    }\n",
       "</style>\n",
       "<table border=\"1\" class=\"dataframe\">\n",
       "  <thead>\n",
       "    <tr style=\"text-align: right;\">\n",
       "      <th></th>\n",
       "      <th>user_id</th>\n",
       "      <th>item_id</th>\n",
       "      <th>order_ts</th>\n",
       "    </tr>\n",
       "  </thead>\n",
       "  <tbody>\n",
       "    <tr>\n",
       "      <th>0</th>\n",
       "      <td>550614</td>\n",
       "      <td>264</td>\n",
       "      <td>2023-01-01 00:28:09.000000</td>\n",
       "    </tr>\n",
       "    <tr>\n",
       "      <th>1</th>\n",
       "      <td>571051</td>\n",
       "      <td>580</td>\n",
       "      <td>2023-01-01 00:41:47.000000</td>\n",
       "    </tr>\n",
       "    <tr>\n",
       "      <th>2</th>\n",
       "      <td>571051</td>\n",
       "      <td>180</td>\n",
       "      <td>2023-01-01 00:41:47.000000</td>\n",
       "    </tr>\n",
       "    <tr>\n",
       "      <th>3</th>\n",
       "      <td>47164</td>\n",
       "      <td>5135</td>\n",
       "      <td>2023-01-01 00:53:35.000000</td>\n",
       "    </tr>\n",
       "    <tr>\n",
       "      <th>4</th>\n",
       "      <td>219072</td>\n",
       "      <td>2668</td>\n",
       "      <td>2023-01-01 01:02:29.000000</td>\n",
       "    </tr>\n",
       "    <tr>\n",
       "      <th>...</th>\n",
       "      <td>...</td>\n",
       "      <td>...</td>\n",
       "      <td>...</td>\n",
       "    </tr>\n",
       "    <tr>\n",
       "      <th>21265779</th>\n",
       "      <td>249269</td>\n",
       "      <td>348</td>\n",
       "      <td>2023-03-31 23:55:37.182803</td>\n",
       "    </tr>\n",
       "    <tr>\n",
       "      <th>21265780</th>\n",
       "      <td>373951</td>\n",
       "      <td>3835</td>\n",
       "      <td>2023-03-31 23:59:24.148327</td>\n",
       "    </tr>\n",
       "    <tr>\n",
       "      <th>21265781</th>\n",
       "      <td>505474</td>\n",
       "      <td>1340</td>\n",
       "      <td>2023-03-31 23:59:24.161567</td>\n",
       "    </tr>\n",
       "    <tr>\n",
       "      <th>21265782</th>\n",
       "      <td>1011023</td>\n",
       "      <td>153</td>\n",
       "      <td>2023-03-31 23:59:38.371329</td>\n",
       "    </tr>\n",
       "    <tr>\n",
       "      <th>21265783</th>\n",
       "      <td>756570</td>\n",
       "      <td>6623</td>\n",
       "      <td>2023-03-31 23:59:51.669277</td>\n",
       "    </tr>\n",
       "  </tbody>\n",
       "</table>\n",
       "<p>21265784 rows × 3 columns</p>\n",
       "</div>"
      ],
      "text/plain": [
       "          user_id  item_id                    order_ts\n",
       "0          550614      264  2023-01-01 00:28:09.000000\n",
       "1          571051      580  2023-01-01 00:41:47.000000\n",
       "2          571051      180  2023-01-01 00:41:47.000000\n",
       "3           47164     5135  2023-01-01 00:53:35.000000\n",
       "4          219072     2668  2023-01-01 01:02:29.000000\n",
       "...           ...      ...                         ...\n",
       "21265779   249269      348  2023-03-31 23:55:37.182803\n",
       "21265780   373951     3835  2023-03-31 23:59:24.148327\n",
       "21265781   505474     1340  2023-03-31 23:59:24.161567\n",
       "21265782  1011023      153  2023-03-31 23:59:38.371329\n",
       "21265783   756570     6623  2023-03-31 23:59:51.669277\n",
       "\n",
       "[21265784 rows x 3 columns]"
      ]
     },
     "execution_count": 3,
     "metadata": {},
     "output_type": "execute_result"
    }
   ],
   "source": [
    "data"
   ]
  },
  {
   "cell_type": "code",
   "execution_count": 4,
   "id": "40a017ba",
   "metadata": {},
   "outputs": [
    {
     "name": "stdout",
     "output_type": "stream",
     "text": [
      "<class 'pandas.core.frame.DataFrame'>\n",
      "RangeIndex: 21265784 entries, 0 to 21265783\n",
      "Data columns (total 3 columns):\n",
      " #   Column    Dtype \n",
      "---  ------    ----- \n",
      " 0   user_id   int64 \n",
      " 1   item_id   int64 \n",
      " 2   order_ts  object\n",
      "dtypes: int64(2), object(1)\n",
      "memory usage: 486.7+ MB\n"
     ]
    }
   ],
   "source": [
    "data.info()"
   ]
  },
  {
   "cell_type": "markdown",
   "id": "b64d44e4",
   "metadata": {},
   "source": [
    "Проверим что в данных нет пустот"
   ]
  },
  {
   "cell_type": "code",
   "execution_count": 5,
   "id": "349194bf",
   "metadata": {},
   "outputs": [
    {
     "data": {
      "text/plain": [
       "user_id     0\n",
       "item_id     0\n",
       "order_ts    0\n",
       "dtype: int64"
      ]
     },
     "execution_count": 5,
     "metadata": {},
     "output_type": "execute_result"
    }
   ],
   "source": [
    "data.isna().sum()"
   ]
  },
  {
   "cell_type": "markdown",
   "id": "79f8a444",
   "metadata": {},
   "source": [
    "проверим данные на дубликаты."
   ]
  },
  {
   "cell_type": "code",
   "execution_count": 6,
   "id": "487bd8bc",
   "metadata": {},
   "outputs": [
    {
     "data": {
      "text/plain": [
       "2006497"
      ]
     },
     "execution_count": 6,
     "metadata": {},
     "output_type": "execute_result"
    }
   ],
   "source": [
    "data.duplicated().sum()"
   ]
  },
  {
   "cell_type": "markdown",
   "id": "e19620ae",
   "metadata": {},
   "source": [
    "Дубликаты означают что пользователь купил 2 или больше товара одновременно."
   ]
  },
  {
   "cell_type": "markdown",
   "id": "dddd12ca",
   "metadata": {},
   "source": [
    "Проанализируем данные по датам:"
   ]
  },
  {
   "cell_type": "code",
   "execution_count": 7,
   "id": "6bdb9cd7",
   "metadata": {},
   "outputs": [
    {
     "data": {
      "text/plain": [
       "'2023-01-01 00:00:05.000000'"
      ]
     },
     "execution_count": 7,
     "metadata": {},
     "output_type": "execute_result"
    }
   ],
   "source": [
    "data['order_ts'].min()"
   ]
  },
  {
   "cell_type": "code",
   "execution_count": 8,
   "id": "568c0ef3",
   "metadata": {},
   "outputs": [
    {
     "data": {
      "text/plain": [
       "'2023-03-31 23:59:59.947831'"
      ]
     },
     "execution_count": 8,
     "metadata": {},
     "output_type": "execute_result"
    }
   ],
   "source": [
    "data['order_ts'].max()"
   ]
  },
  {
   "cell_type": "markdown",
   "id": "6ef377ad",
   "metadata": {},
   "source": [
    "Выходит, у нас есть данные за 3 месяца. Посмотрим какой из пользователей был самым активным:"
   ]
  },
  {
   "cell_type": "code",
   "execution_count": 10,
   "id": "95f084b0",
   "metadata": {},
   "outputs": [
    {
     "data": {
      "text/plain": [
       "173306    4088\n",
       "815043    3059\n",
       "305110    2919\n",
       "42097     2572\n",
       "570310    2258\n",
       "          ... \n",
       "548029       1\n",
       "568776       1\n",
       "468775       1\n",
       "720039       1\n",
       "342597       1\n",
       "Name: user_id, Length: 1057265, dtype: int64"
      ]
     },
     "execution_count": 10,
     "metadata": {},
     "output_type": "execute_result"
    }
   ],
   "source": [
    "data['user_id'].value_counts()"
   ]
  },
  {
   "cell_type": "markdown",
   "id": "21fa0b5f",
   "metadata": {},
   "source": [
    "И какой товар самый популярный:"
   ]
  },
  {
   "cell_type": "code",
   "execution_count": 12,
   "id": "1538d343",
   "metadata": {},
   "outputs": [
    {
     "data": {
      "text/plain": [
       "192     495126\n",
       "69      397733\n",
       "390     331207\n",
       "11      317840\n",
       "357     308927\n",
       "         ...  \n",
       "5475         1\n",
       "4361         1\n",
       "7776         1\n",
       "7882         1\n",
       "7384         1\n",
       "Name: item_id, Length: 6562, dtype: int64"
      ]
     },
     "execution_count": 12,
     "metadata": {},
     "output_type": "execute_result"
    }
   ],
   "source": [
    "data['item_id'].value_counts()"
   ]
  },
  {
   "cell_type": "code",
   "execution_count": null,
   "id": "8c2f3ade",
   "metadata": {},
   "outputs": [],
   "source": [
    "Товар 192 заказали почти полмиллиона человек"
   ]
  },
  {
   "cell_type": "code",
   "execution_count": null,
   "id": "a9de5e51",
   "metadata": {},
   "outputs": [],
   "source": []
  },
  {
   "cell_type": "code",
   "execution_count": null,
   "id": "e5795d52",
   "metadata": {},
   "outputs": [],
   "source": [
    "data['order_ts'].hist()"
   ]
  },
  {
   "cell_type": "markdown",
   "id": "16dccadd",
   "metadata": {},
   "source": [
    "Далее нужно удалить аномальные значения и создать матрицу взаимодействий между пользователями и товарами, где строки соответствуют пользователям, а столбцы - товарам. В ячейке матрицы может быть значение 1 (если пользователь купил данный товар) или 0 (если пользователь не покупал этот товар). Вычислить косинусную сходство между пользователями, найти наиболее схожих пользователей и получить списки рекомендай для каждого пользователя."
   ]
  },
  {
   "cell_type": "code",
   "execution_count": null,
   "id": "d8cedf2d",
   "metadata": {},
   "outputs": [],
   "source": []
  },
  {
   "cell_type": "code",
   "execution_count": null,
   "id": "4d40f836",
   "metadata": {},
   "outputs": [],
   "source": []
  }
 ],
 "metadata": {
  "kernelspec": {
   "display_name": "Python 3 (ipykernel)",
   "language": "python",
   "name": "python3"
  },
  "language_info": {
   "codemirror_mode": {
    "name": "ipython",
    "version": 3
   },
   "file_extension": ".py",
   "mimetype": "text/x-python",
   "name": "python",
   "nbconvert_exporter": "python",
   "pygments_lexer": "ipython3",
   "version": "3.9.12"
  },
  "toc": {
   "base_numbering": 1,
   "nav_menu": {},
   "number_sections": true,
   "sideBar": true,
   "skip_h1_title": false,
   "title_cell": "Table of Contents",
   "title_sidebar": "Contents",
   "toc_cell": false,
   "toc_position": {},
   "toc_section_display": true,
   "toc_window_display": false
  }
 },
 "nbformat": 4,
 "nbformat_minor": 5
}
